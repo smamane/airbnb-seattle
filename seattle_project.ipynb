{
 "cells": [
  {
   "cell_type": "code",
   "execution_count": null,
   "metadata": {},
   "outputs": [],
   "source": [
    "\"\"\"\"\n",
    "Analyzes Seattle Airbnb data. Answers the following questions:\n",
    "1)What is the proportion of listings in each neighbourhood? The distribution of property types?\n",
    "    The distribution of room types?\n",
    "2)What is the average rental price for an entire house in each neighbourhood? \n",
    "    What is the average cleaning fee per number of bedrooms?\n",
    "\n",
    "3)What is the proportion of such houses  with each of the usual amenities?\n",
    "4)What is a competitive price for an entire house rental?\n",
    "\n",
    "\"\"\"\""
   ]
  },
  {
   "cell_type": "code",
   "execution_count": 1,
   "metadata": {},
   "outputs": [],
   "source": [
    "\n",
    "import numpy as np\n",
    "import pandas as pd\n",
    "import matplotlib.pyplot as plt\n",
    "import seaborn as sns\n",
    "\n",
    "from sklearn.linear_model import LinearRegression\n",
    "from sklearn.model_selection import train_test_split\n",
    "from sklearn.metrics import r2_score, mean_squared_error\n",
    "\n",
    "from IPython import display\n",
    "%matplotlib inline\n",
    "from tkinter.filedialog import askopenfilename\n"
   ]
  },
  {
   "cell_type": "code",
   "execution_count": 2,
   "metadata": {},
   "outputs": [],
   "source": [
    "#Allows user to browse for the data file\n",
    "listings = askopenfilename()\n"
   ]
  },
  {
   "cell_type": "code",
   "execution_count": 3,
   "metadata": {},
   "outputs": [],
   "source": [
    "#Reads the csv file\n",
    "dflistings = pd.read_csv(listings)"
   ]
  },
  {
   "cell_type": "code",
   "execution_count": 4,
   "metadata": {},
   "outputs": [],
   "source": [
    "#Load calendar file\n",
    "calendar = askopenfilename()\n",
    "dfcalendar = pd.read_csv(calendar)"
   ]
  },
  {
   "cell_type": "code",
   "execution_count": 5,
   "metadata": {},
   "outputs": [
    {
     "data": {
      "text/html": [
       "<div>\n",
       "<style scoped>\n",
       "    .dataframe tbody tr th:only-of-type {\n",
       "        vertical-align: middle;\n",
       "    }\n",
       "\n",
       "    .dataframe tbody tr th {\n",
       "        vertical-align: top;\n",
       "    }\n",
       "\n",
       "    .dataframe thead th {\n",
       "        text-align: right;\n",
       "    }\n",
       "</style>\n",
       "<table border=\"1\" class=\"dataframe\">\n",
       "  <thead>\n",
       "    <tr style=\"text-align: right;\">\n",
       "      <th></th>\n",
       "      <th>listing_id</th>\n",
       "      <th>date</th>\n",
       "      <th>available</th>\n",
       "      <th>price</th>\n",
       "    </tr>\n",
       "  </thead>\n",
       "  <tbody>\n",
       "    <tr>\n",
       "      <td>0</td>\n",
       "      <td>241032</td>\n",
       "      <td>2016-01-04</td>\n",
       "      <td>t</td>\n",
       "      <td>$85.00</td>\n",
       "    </tr>\n",
       "    <tr>\n",
       "      <td>1</td>\n",
       "      <td>241032</td>\n",
       "      <td>2016-01-05</td>\n",
       "      <td>t</td>\n",
       "      <td>$85.00</td>\n",
       "    </tr>\n",
       "    <tr>\n",
       "      <td>2</td>\n",
       "      <td>241032</td>\n",
       "      <td>2016-01-06</td>\n",
       "      <td>f</td>\n",
       "      <td>NaN</td>\n",
       "    </tr>\n",
       "    <tr>\n",
       "      <td>3</td>\n",
       "      <td>241032</td>\n",
       "      <td>2016-01-07</td>\n",
       "      <td>f</td>\n",
       "      <td>NaN</td>\n",
       "    </tr>\n",
       "    <tr>\n",
       "      <td>4</td>\n",
       "      <td>241032</td>\n",
       "      <td>2016-01-08</td>\n",
       "      <td>f</td>\n",
       "      <td>NaN</td>\n",
       "    </tr>\n",
       "  </tbody>\n",
       "</table>\n",
       "</div>"
      ],
      "text/plain": [
       "   listing_id        date available   price\n",
       "0      241032  2016-01-04         t  $85.00\n",
       "1      241032  2016-01-05         t  $85.00\n",
       "2      241032  2016-01-06         f     NaN\n",
       "3      241032  2016-01-07         f     NaN\n",
       "4      241032  2016-01-08         f     NaN"
      ]
     },
     "execution_count": 5,
     "metadata": {},
     "output_type": "execute_result"
    }
   ],
   "source": [
    "dfcalendar.head()"
   ]
  },
  {
   "cell_type": "code",
   "execution_count": 6,
   "metadata": {},
   "outputs": [
    {
     "data": {
      "text/plain": [
       "365"
      ]
     },
     "execution_count": 6,
     "metadata": {},
     "output_type": "execute_result"
    }
   ],
   "source": [
    "#Number of days covered by the data\n",
    "len(set(dfcalendar.date))"
   ]
  },
  {
   "cell_type": "code",
   "execution_count": 7,
   "metadata": {},
   "outputs": [
    {
     "data": {
      "text/plain": [
       "0          2016-01-04\n",
       "1171285    2016-01-04\n",
       "442380     2016-01-04\n",
       "997180     2016-01-04\n",
       "1203040    2016-01-04\n",
       "              ...    \n",
       "924544     2017-01-02\n",
       "924179     2017-01-02\n",
       "923814     2017-01-02\n",
       "928194     2017-01-02\n",
       "1393569    2017-01-02\n",
       "Name: date, Length: 1393570, dtype: object"
      ]
     },
     "execution_count": 7,
     "metadata": {},
     "output_type": "execute_result"
    }
   ],
   "source": [
    "#period  covered by the data\n",
    "dfcalendar.date.sort_values()"
   ]
  },
  {
   "cell_type": "code",
   "execution_count": 8,
   "metadata": {},
   "outputs": [
    {
     "data": {
      "text/html": [
       "<div>\n",
       "<style scoped>\n",
       "    .dataframe tbody tr th:only-of-type {\n",
       "        vertical-align: middle;\n",
       "    }\n",
       "\n",
       "    .dataframe tbody tr th {\n",
       "        vertical-align: top;\n",
       "    }\n",
       "\n",
       "    .dataframe thead th {\n",
       "        text-align: right;\n",
       "    }\n",
       "</style>\n",
       "<table border=\"1\" class=\"dataframe\">\n",
       "  <thead>\n",
       "    <tr style=\"text-align: right;\">\n",
       "      <th></th>\n",
       "      <th>id</th>\n",
       "      <th>listing_url</th>\n",
       "      <th>scrape_id</th>\n",
       "      <th>last_scraped</th>\n",
       "      <th>name</th>\n",
       "      <th>summary</th>\n",
       "      <th>space</th>\n",
       "      <th>description</th>\n",
       "      <th>experiences_offered</th>\n",
       "      <th>neighborhood_overview</th>\n",
       "      <th>...</th>\n",
       "      <th>review_scores_value</th>\n",
       "      <th>requires_license</th>\n",
       "      <th>license</th>\n",
       "      <th>jurisdiction_names</th>\n",
       "      <th>instant_bookable</th>\n",
       "      <th>cancellation_policy</th>\n",
       "      <th>require_guest_profile_picture</th>\n",
       "      <th>require_guest_phone_verification</th>\n",
       "      <th>calculated_host_listings_count</th>\n",
       "      <th>reviews_per_month</th>\n",
       "    </tr>\n",
       "  </thead>\n",
       "  <tbody>\n",
       "    <tr>\n",
       "      <td>0</td>\n",
       "      <td>241032</td>\n",
       "      <td>https://www.airbnb.com/rooms/241032</td>\n",
       "      <td>20160104002432</td>\n",
       "      <td>2016-01-04</td>\n",
       "      <td>Stylish Queen Anne Apartment</td>\n",
       "      <td>NaN</td>\n",
       "      <td>Make your self at home in this charming one-be...</td>\n",
       "      <td>Make your self at home in this charming one-be...</td>\n",
       "      <td>none</td>\n",
       "      <td>NaN</td>\n",
       "      <td>...</td>\n",
       "      <td>10.0</td>\n",
       "      <td>f</td>\n",
       "      <td>NaN</td>\n",
       "      <td>WASHINGTON</td>\n",
       "      <td>f</td>\n",
       "      <td>moderate</td>\n",
       "      <td>f</td>\n",
       "      <td>f</td>\n",
       "      <td>2</td>\n",
       "      <td>4.07</td>\n",
       "    </tr>\n",
       "    <tr>\n",
       "      <td>1</td>\n",
       "      <td>953595</td>\n",
       "      <td>https://www.airbnb.com/rooms/953595</td>\n",
       "      <td>20160104002432</td>\n",
       "      <td>2016-01-04</td>\n",
       "      <td>Bright &amp; Airy Queen Anne Apartment</td>\n",
       "      <td>Chemically sensitive? We've removed the irrita...</td>\n",
       "      <td>Beautiful, hypoallergenic apartment in an extr...</td>\n",
       "      <td>Chemically sensitive? We've removed the irrita...</td>\n",
       "      <td>none</td>\n",
       "      <td>Queen Anne is a wonderful, truly functional vi...</td>\n",
       "      <td>...</td>\n",
       "      <td>10.0</td>\n",
       "      <td>f</td>\n",
       "      <td>NaN</td>\n",
       "      <td>WASHINGTON</td>\n",
       "      <td>f</td>\n",
       "      <td>strict</td>\n",
       "      <td>t</td>\n",
       "      <td>t</td>\n",
       "      <td>6</td>\n",
       "      <td>1.48</td>\n",
       "    </tr>\n",
       "    <tr>\n",
       "      <td>2</td>\n",
       "      <td>3308979</td>\n",
       "      <td>https://www.airbnb.com/rooms/3308979</td>\n",
       "      <td>20160104002432</td>\n",
       "      <td>2016-01-04</td>\n",
       "      <td>New Modern House-Amazing water view</td>\n",
       "      <td>New modern house built in 2013.  Spectacular s...</td>\n",
       "      <td>Our house is modern, light and fresh with a wa...</td>\n",
       "      <td>New modern house built in 2013.  Spectacular s...</td>\n",
       "      <td>none</td>\n",
       "      <td>Upper Queen Anne is a charming neighborhood fu...</td>\n",
       "      <td>...</td>\n",
       "      <td>10.0</td>\n",
       "      <td>f</td>\n",
       "      <td>NaN</td>\n",
       "      <td>WASHINGTON</td>\n",
       "      <td>f</td>\n",
       "      <td>strict</td>\n",
       "      <td>f</td>\n",
       "      <td>f</td>\n",
       "      <td>2</td>\n",
       "      <td>1.15</td>\n",
       "    </tr>\n",
       "    <tr>\n",
       "      <td>3</td>\n",
       "      <td>7421966</td>\n",
       "      <td>https://www.airbnb.com/rooms/7421966</td>\n",
       "      <td>20160104002432</td>\n",
       "      <td>2016-01-04</td>\n",
       "      <td>Queen Anne Chateau</td>\n",
       "      <td>A charming apartment that sits atop Queen Anne...</td>\n",
       "      <td>NaN</td>\n",
       "      <td>A charming apartment that sits atop Queen Anne...</td>\n",
       "      <td>none</td>\n",
       "      <td>NaN</td>\n",
       "      <td>...</td>\n",
       "      <td>NaN</td>\n",
       "      <td>f</td>\n",
       "      <td>NaN</td>\n",
       "      <td>WASHINGTON</td>\n",
       "      <td>f</td>\n",
       "      <td>flexible</td>\n",
       "      <td>f</td>\n",
       "      <td>f</td>\n",
       "      <td>1</td>\n",
       "      <td>NaN</td>\n",
       "    </tr>\n",
       "    <tr>\n",
       "      <td>4</td>\n",
       "      <td>278830</td>\n",
       "      <td>https://www.airbnb.com/rooms/278830</td>\n",
       "      <td>20160104002432</td>\n",
       "      <td>2016-01-04</td>\n",
       "      <td>Charming craftsman 3 bdm house</td>\n",
       "      <td>Cozy family craftman house in beautiful neighb...</td>\n",
       "      <td>Cozy family craftman house in beautiful neighb...</td>\n",
       "      <td>Cozy family craftman house in beautiful neighb...</td>\n",
       "      <td>none</td>\n",
       "      <td>We are in the beautiful neighborhood of Queen ...</td>\n",
       "      <td>...</td>\n",
       "      <td>9.0</td>\n",
       "      <td>f</td>\n",
       "      <td>NaN</td>\n",
       "      <td>WASHINGTON</td>\n",
       "      <td>f</td>\n",
       "      <td>strict</td>\n",
       "      <td>f</td>\n",
       "      <td>f</td>\n",
       "      <td>1</td>\n",
       "      <td>0.89</td>\n",
       "    </tr>\n",
       "  </tbody>\n",
       "</table>\n",
       "<p>5 rows × 92 columns</p>\n",
       "</div>"
      ],
      "text/plain": [
       "        id                           listing_url       scrape_id last_scraped  \\\n",
       "0   241032   https://www.airbnb.com/rooms/241032  20160104002432   2016-01-04   \n",
       "1   953595   https://www.airbnb.com/rooms/953595  20160104002432   2016-01-04   \n",
       "2  3308979  https://www.airbnb.com/rooms/3308979  20160104002432   2016-01-04   \n",
       "3  7421966  https://www.airbnb.com/rooms/7421966  20160104002432   2016-01-04   \n",
       "4   278830   https://www.airbnb.com/rooms/278830  20160104002432   2016-01-04   \n",
       "\n",
       "                                  name  \\\n",
       "0         Stylish Queen Anne Apartment   \n",
       "1   Bright & Airy Queen Anne Apartment   \n",
       "2  New Modern House-Amazing water view   \n",
       "3                   Queen Anne Chateau   \n",
       "4       Charming craftsman 3 bdm house   \n",
       "\n",
       "                                             summary  \\\n",
       "0                                                NaN   \n",
       "1  Chemically sensitive? We've removed the irrita...   \n",
       "2  New modern house built in 2013.  Spectacular s...   \n",
       "3  A charming apartment that sits atop Queen Anne...   \n",
       "4  Cozy family craftman house in beautiful neighb...   \n",
       "\n",
       "                                               space  \\\n",
       "0  Make your self at home in this charming one-be...   \n",
       "1  Beautiful, hypoallergenic apartment in an extr...   \n",
       "2  Our house is modern, light and fresh with a wa...   \n",
       "3                                                NaN   \n",
       "4  Cozy family craftman house in beautiful neighb...   \n",
       "\n",
       "                                         description experiences_offered  \\\n",
       "0  Make your self at home in this charming one-be...                none   \n",
       "1  Chemically sensitive? We've removed the irrita...                none   \n",
       "2  New modern house built in 2013.  Spectacular s...                none   \n",
       "3  A charming apartment that sits atop Queen Anne...                none   \n",
       "4  Cozy family craftman house in beautiful neighb...                none   \n",
       "\n",
       "                               neighborhood_overview  ... review_scores_value  \\\n",
       "0                                                NaN  ...                10.0   \n",
       "1  Queen Anne is a wonderful, truly functional vi...  ...                10.0   \n",
       "2  Upper Queen Anne is a charming neighborhood fu...  ...                10.0   \n",
       "3                                                NaN  ...                 NaN   \n",
       "4  We are in the beautiful neighborhood of Queen ...  ...                 9.0   \n",
       "\n",
       "  requires_license license jurisdiction_names instant_bookable  \\\n",
       "0                f     NaN         WASHINGTON                f   \n",
       "1                f     NaN         WASHINGTON                f   \n",
       "2                f     NaN         WASHINGTON                f   \n",
       "3                f     NaN         WASHINGTON                f   \n",
       "4                f     NaN         WASHINGTON                f   \n",
       "\n",
       "  cancellation_policy  require_guest_profile_picture  \\\n",
       "0            moderate                              f   \n",
       "1              strict                              t   \n",
       "2              strict                              f   \n",
       "3            flexible                              f   \n",
       "4              strict                              f   \n",
       "\n",
       "  require_guest_phone_verification calculated_host_listings_count  \\\n",
       "0                                f                              2   \n",
       "1                                t                              6   \n",
       "2                                f                              2   \n",
       "3                                f                              1   \n",
       "4                                f                              1   \n",
       "\n",
       "  reviews_per_month  \n",
       "0              4.07  \n",
       "1              1.48  \n",
       "2              1.15  \n",
       "3               NaN  \n",
       "4              0.89  \n",
       "\n",
       "[5 rows x 92 columns]"
      ]
     },
     "execution_count": 8,
     "metadata": {},
     "output_type": "execute_result"
    }
   ],
   "source": [
    "#Data exploration\n",
    "dflistings.head()"
   ]
  },
  {
   "cell_type": "code",
   "execution_count": 9,
   "metadata": {},
   "outputs": [
    {
     "data": {
      "text/plain": [
       "(3818, 92)"
      ]
     },
     "execution_count": 9,
     "metadata": {},
     "output_type": "execute_result"
    }
   ],
   "source": [
    "dflistings.shape"
   ]
  },
  {
   "cell_type": "code",
   "execution_count": null,
   "metadata": {},
   "outputs": [],
   "source": [
    "#List the variables in the data\n",
    "dflistings.columns"
   ]
  },
  {
   "cell_type": "code",
   "execution_count": 10,
   "metadata": {},
   "outputs": [],
   "source": [
    "#Select the variables of interest\n",
    "df = dflistings[['neighbourhood_group_cleansed','property_type', 'room_type', 'accommodates','bedrooms','bathrooms','beds','amenities','price','security_deposit','cleaning_fee']].copy()\n"
   ]
  },
  {
   "cell_type": "code",
   "execution_count": 11,
   "metadata": {},
   "outputs": [
    {
     "data": {
      "text/html": [
       "<div>\n",
       "<style scoped>\n",
       "    .dataframe tbody tr th:only-of-type {\n",
       "        vertical-align: middle;\n",
       "    }\n",
       "\n",
       "    .dataframe tbody tr th {\n",
       "        vertical-align: top;\n",
       "    }\n",
       "\n",
       "    .dataframe thead th {\n",
       "        text-align: right;\n",
       "    }\n",
       "</style>\n",
       "<table border=\"1\" class=\"dataframe\">\n",
       "  <thead>\n",
       "    <tr style=\"text-align: right;\">\n",
       "      <th></th>\n",
       "      <th>accommodates</th>\n",
       "      <th>bedrooms</th>\n",
       "      <th>bathrooms</th>\n",
       "      <th>beds</th>\n",
       "    </tr>\n",
       "  </thead>\n",
       "  <tbody>\n",
       "    <tr>\n",
       "      <td>0</td>\n",
       "      <td>4</td>\n",
       "      <td>1.0</td>\n",
       "      <td>1.0</td>\n",
       "      <td>1.0</td>\n",
       "    </tr>\n",
       "    <tr>\n",
       "      <td>1</td>\n",
       "      <td>4</td>\n",
       "      <td>1.0</td>\n",
       "      <td>1.0</td>\n",
       "      <td>1.0</td>\n",
       "    </tr>\n",
       "    <tr>\n",
       "      <td>2</td>\n",
       "      <td>11</td>\n",
       "      <td>5.0</td>\n",
       "      <td>4.5</td>\n",
       "      <td>7.0</td>\n",
       "    </tr>\n",
       "    <tr>\n",
       "      <td>3</td>\n",
       "      <td>3</td>\n",
       "      <td>0.0</td>\n",
       "      <td>1.0</td>\n",
       "      <td>2.0</td>\n",
       "    </tr>\n",
       "    <tr>\n",
       "      <td>4</td>\n",
       "      <td>6</td>\n",
       "      <td>3.0</td>\n",
       "      <td>2.0</td>\n",
       "      <td>3.0</td>\n",
       "    </tr>\n",
       "  </tbody>\n",
       "</table>\n",
       "</div>"
      ],
      "text/plain": [
       "   accommodates  bedrooms  bathrooms  beds\n",
       "0             4       1.0        1.0   1.0\n",
       "1             4       1.0        1.0   1.0\n",
       "2            11       5.0        4.5   7.0\n",
       "3             3       0.0        1.0   2.0\n",
       "4             6       3.0        2.0   3.0"
      ]
     },
     "execution_count": 11,
     "metadata": {},
     "output_type": "execute_result"
    }
   ],
   "source": [
    "#Look at variables with numeric values\n",
    "df.select_dtypes(['int64','float']).head()"
   ]
  },
  {
   "cell_type": "code",
   "execution_count": 12,
   "metadata": {},
   "outputs": [
    {
     "data": {
      "text/html": [
       "<div>\n",
       "<style scoped>\n",
       "    .dataframe tbody tr th:only-of-type {\n",
       "        vertical-align: middle;\n",
       "    }\n",
       "\n",
       "    .dataframe tbody tr th {\n",
       "        vertical-align: top;\n",
       "    }\n",
       "\n",
       "    .dataframe thead th {\n",
       "        text-align: right;\n",
       "    }\n",
       "</style>\n",
       "<table border=\"1\" class=\"dataframe\">\n",
       "  <thead>\n",
       "    <tr style=\"text-align: right;\">\n",
       "      <th></th>\n",
       "      <th>neighbourhood_group_cleansed</th>\n",
       "      <th>property_type</th>\n",
       "      <th>room_type</th>\n",
       "      <th>amenities</th>\n",
       "      <th>price</th>\n",
       "      <th>security_deposit</th>\n",
       "      <th>cleaning_fee</th>\n",
       "    </tr>\n",
       "  </thead>\n",
       "  <tbody>\n",
       "    <tr>\n",
       "      <td>0</td>\n",
       "      <td>Queen Anne</td>\n",
       "      <td>Apartment</td>\n",
       "      <td>Entire home/apt</td>\n",
       "      <td>{TV,\"Cable TV\",Internet,\"Wireless Internet\",\"A...</td>\n",
       "      <td>$85.00</td>\n",
       "      <td>NaN</td>\n",
       "      <td>NaN</td>\n",
       "    </tr>\n",
       "    <tr>\n",
       "      <td>1</td>\n",
       "      <td>Queen Anne</td>\n",
       "      <td>Apartment</td>\n",
       "      <td>Entire home/apt</td>\n",
       "      <td>{TV,Internet,\"Wireless Internet\",Kitchen,\"Free...</td>\n",
       "      <td>$150.00</td>\n",
       "      <td>$100.00</td>\n",
       "      <td>$40.00</td>\n",
       "    </tr>\n",
       "    <tr>\n",
       "      <td>2</td>\n",
       "      <td>Queen Anne</td>\n",
       "      <td>House</td>\n",
       "      <td>Entire home/apt</td>\n",
       "      <td>{TV,\"Cable TV\",Internet,\"Wireless Internet\",\"A...</td>\n",
       "      <td>$975.00</td>\n",
       "      <td>$1,000.00</td>\n",
       "      <td>$300.00</td>\n",
       "    </tr>\n",
       "    <tr>\n",
       "      <td>3</td>\n",
       "      <td>Queen Anne</td>\n",
       "      <td>Apartment</td>\n",
       "      <td>Entire home/apt</td>\n",
       "      <td>{Internet,\"Wireless Internet\",Kitchen,\"Indoor ...</td>\n",
       "      <td>$100.00</td>\n",
       "      <td>NaN</td>\n",
       "      <td>NaN</td>\n",
       "    </tr>\n",
       "    <tr>\n",
       "      <td>4</td>\n",
       "      <td>Queen Anne</td>\n",
       "      <td>House</td>\n",
       "      <td>Entire home/apt</td>\n",
       "      <td>{TV,\"Cable TV\",Internet,\"Wireless Internet\",Ki...</td>\n",
       "      <td>$450.00</td>\n",
       "      <td>$700.00</td>\n",
       "      <td>$125.00</td>\n",
       "    </tr>\n",
       "  </tbody>\n",
       "</table>\n",
       "</div>"
      ],
      "text/plain": [
       "  neighbourhood_group_cleansed property_type        room_type  \\\n",
       "0                   Queen Anne     Apartment  Entire home/apt   \n",
       "1                   Queen Anne     Apartment  Entire home/apt   \n",
       "2                   Queen Anne         House  Entire home/apt   \n",
       "3                   Queen Anne     Apartment  Entire home/apt   \n",
       "4                   Queen Anne         House  Entire home/apt   \n",
       "\n",
       "                                           amenities    price  \\\n",
       "0  {TV,\"Cable TV\",Internet,\"Wireless Internet\",\"A...   $85.00   \n",
       "1  {TV,Internet,\"Wireless Internet\",Kitchen,\"Free...  $150.00   \n",
       "2  {TV,\"Cable TV\",Internet,\"Wireless Internet\",\"A...  $975.00   \n",
       "3  {Internet,\"Wireless Internet\",Kitchen,\"Indoor ...  $100.00   \n",
       "4  {TV,\"Cable TV\",Internet,\"Wireless Internet\",Ki...  $450.00   \n",
       "\n",
       "  security_deposit cleaning_fee  \n",
       "0              NaN          NaN  \n",
       "1          $100.00       $40.00  \n",
       "2        $1,000.00      $300.00  \n",
       "3              NaN          NaN  \n",
       "4          $700.00      $125.00  "
      ]
     },
     "execution_count": 12,
     "metadata": {},
     "output_type": "execute_result"
    }
   ],
   "source": [
    "#Look at variables with string values\n",
    "df.select_dtypes(['object']).head()"
   ]
  },
  {
   "cell_type": "code",
   "execution_count": 13,
   "metadata": {},
   "outputs": [],
   "source": [
    "#Remove dollar signs and commas in money and convert to the correct type\n",
    "prices = ['price','security_deposit','cleaning_fee']\n",
    "df[prices]=df[prices].replace(['\\$',','],\"\",regex=True).astype(float)\n"
   ]
  },
  {
   "cell_type": "code",
   "execution_count": 14,
   "metadata": {},
   "outputs": [],
   "source": [
    "def percentage(variable,title=\"\"):\n",
    "    \"\"\"Calculates and plots the distribution of a qualitative variable.\n",
    "    Args:\n",
    "    variable (Panda Series)\n",
    "    title (str): the title of the graph plot\n",
    "    \"\"\"\n",
    "    proportion = variable.value_counts()\n",
    "    print((proportion/len(df)).map(\"{:.2%}\".format))\n",
    "    proportion.plot(kind='bar',title = title);\n",
    "    return proportion\n"
   ]
  },
  {
   "cell_type": "code",
   "execution_count": 15,
   "metadata": {},
   "outputs": [
    {
     "name": "stdout",
     "output_type": "stream",
     "text": [
      "Other neighborhoods    20.80%\n",
      "Capitol Hill           14.85%\n",
      "Downtown               13.88%\n",
      "Central Area            9.66%\n",
      "Queen Anne              7.73%\n",
      "Ballard                 6.02%\n",
      "West Seattle            5.32%\n",
      "Rainier Valley          4.16%\n",
      "University District     3.20%\n",
      "Beacon Hill             3.09%\n",
      "Cascade                 2.33%\n",
      "Northgate               2.10%\n",
      "Delridge                2.07%\n",
      "Lake City               1.75%\n",
      "Magnolia                1.60%\n",
      "Seward Park             1.15%\n",
      "Interbay                0.29%\n",
      "Name: neighbourhood_group_cleansed, dtype: object\n"
     ]
    },
    {
     "data": {
      "image/png": "[encoded data removed]",
      "text/plain": [
       "<Figure size 432x288 with 1 Axes>"
      ]
     },
     "metadata": {
      "needs_background": "light"
     },
     "output_type": "display_data"
    }
   ],
   "source": [
    "percentage(df.neighbourhood_group_cleansed,\"Distribution of listings in neighbourhoods\");"
   ]
  },
  {
   "cell_type": "code",
   "execution_count": 16,
   "metadata": {},
   "outputs": [
    {
     "name": "stdout",
     "output_type": "stream",
     "text": [
      "House              45.39%\n",
      "Apartment          44.74%\n",
      "Townhouse           3.09%\n",
      "Condominium         2.38%\n",
      "Loft                1.05%\n",
      "Bed & Breakfast     0.97%\n",
      "Other               0.58%\n",
      "Cabin               0.55%\n",
      "Bungalow            0.34%\n",
      "Camper/RV           0.34%\n",
      "Boat                0.21%\n",
      "Tent                0.13%\n",
      "Treehouse           0.08%\n",
      "Chalet              0.05%\n",
      "Dorm                0.05%\n",
      "Yurt                0.03%\n",
      "Name: property_type, dtype: object\n"
     ]
    },
    {
     "data": {
      "image/png": "[encoded data removed]",
      "text/plain": [
       "<Figure size 432x288 with 1 Axes>"
      ]
     },
     "metadata": {
      "needs_background": "light"
     },
     "output_type": "display_data"
    }
   ],
   "source": [
    "#Distribution of property types\n",
    "percentage(df.property_type,'Property type');"
   ]
  },
  {
   "cell_type": "code",
   "execution_count": 17,
   "metadata": {},
   "outputs": [
    {
     "name": "stdout",
     "output_type": "stream",
     "text": [
      "Entire home/apt    66.55%\n",
      "Private room       30.38%\n",
      "Shared room         3.06%\n",
      "Name: room_type, dtype: object\n"
     ]
    },
    {
     "data": {
      "image/png": "[encoded data removed]",
      "text/plain": [
       "<Figure size 432x288 with 1 Axes>"
      ]
     },
     "metadata": {
      "needs_background": "light"
     },
     "output_type": "display_data"
    }
   ],
   "source": [
    "#Distribution of room types\n",
    "percentage(df.room_type, 'Distribution of room types');"
   ]
  },
  {
   "cell_type": "code",
   "execution_count": 18,
   "metadata": {},
   "outputs": [],
   "source": [
    "def averages(quant,qual,title=\"\"):\n",
    "    \"\"\"\n",
    "    Displays and plots averages of a quantitative variable for different levels of a categorical variable\n",
    "    Args:\n",
    "    quant (Pandas Series of floats)\n",
    "    qual (Pandas Series)\n",
    "    title (str): the title of the bar plot\n",
    "    Returns:\n",
    "        the_averages (Pandas Series of floats)\n",
    "    \"\"\"\n",
    "    the_averages = quant.groupby(qual).mean().sort_values()\n",
    "    print(the_averages)\n",
    "    the_averages.plot(kind='bar',title=title)\n",
    "    return the_averages\n"
   ]
  },
  {
   "cell_type": "code",
   "execution_count": 20,
   "metadata": {},
   "outputs": [
    {
     "name": "stdout",
     "output_type": "stream",
     "text": [
      "neighbourhood_group_cleansed\n",
      "Delridge               101.461538\n",
      "Northgate              125.888889\n",
      "Rainier Valley         139.212766\n",
      "Lake City              140.909091\n",
      "Beacon Hill            143.607143\n",
      "Interbay               150.000000\n",
      "Seward Park            161.578947\n",
      "Downtown               174.500000\n",
      "Other neighborhoods    182.149425\n",
      "Ballard                184.558140\n",
      "West Seattle           190.857143\n",
      "Central Area           191.250000\n",
      "Cascade                199.428571\n",
      "University District    220.363636\n",
      "Magnolia               250.280000\n",
      "Capitol Hill           259.955224\n",
      "Queen Anne             272.716418\n",
      "Name: price, dtype: float64\n"
     ]
    },
    {
     "data": {
      "image/png": "[encoded data removed]",
      "text/plain": [
       "<Figure size 432x288 with 1 Axes>"
      ]
     },
     "metadata": {
      "needs_background": "light"
     },
     "output_type": "display_data"
    }
   ],
   "source": [
    "# Average rental price of entire house per neighbourhood\n",
    "entire_houses = (df.property_type == 'House') & (df.room_type == 'Entire home/apt')\n",
    "averages(df.price[entire_houses], df.neighbourhood_group_cleansed[entire_houses],title='Average price of entire house rental');\n"
   ]
  },
  {
   "cell_type": "code",
   "execution_count": 21,
   "metadata": {},
   "outputs": [
    {
     "name": "stdout",
     "output_type": "stream",
     "text": [
      "bedrooms\n",
      "1.0     42.165012\n",
      "0.0     45.177536\n",
      "2.0     83.788043\n",
      "3.0    119.543307\n",
      "4.0    136.887097\n",
      "5.0    211.904762\n",
      "6.0    262.500000\n",
      "7.0    300.000000\n",
      "Name: cleaning_fee, dtype: float64\n"
     ]
    },
    {
     "data": {
      "image/png": "[encoded data removed]",
      "text/plain": [
       "<Figure size 432x288 with 1 Axes>"
      ]
     },
     "metadata": {
      "needs_background": "light"
     },
     "output_type": "display_data"
    }
   ],
   "source": [
    "# Average cleaning fee per number of bedrooms\n",
    "averages(df.cleaning_fee, df.bedrooms,title='Average cleaning fee');\n"
   ]
  },
  {
   "cell_type": "code",
   "execution_count": 22,
   "metadata": {},
   "outputs": [
    {
     "data": {
      "image/png": "[encoded data removed]",
      "text/plain": [
       "<Figure size 432x288 with 1 Axes>"
      ]
     },
     "metadata": {
      "needs_background": "light"
     },
     "output_type": "display_data"
    }
   ],
   "source": [
    "#Distribution of entire house rental price\n",
    "df.price[entire_houses].plot(kind='hist',bins= 20, title= 'Distribution of rental price');"
   ]
  },
  {
   "cell_type": "code",
   "execution_count": 23,
   "metadata": {},
   "outputs": [],
   "source": [
    "\n",
    "def occurrences(row, dic):\n",
    "    \"\"\" extracts the options selected by an indivual from a string of the set of set options\n",
    "    and increments the dictionary dic accordingly.\n",
    "    Args:\n",
    "        row (str): the set of options selected by an individual in a \"select all that apply\" type of \n",
    "                survey questions.\n",
    "    Returns:\n",
    "        dic (dictionary)\n",
    "    \n",
    "    \"\"\"\n",
    "    new_list = row.strip('{').strip('}').split(',')\n",
    "    for element in new_list: \n",
    "        if element in dic:\n",
    "            dic[element] += 1\n",
    "        else:\n",
    "            dic[element] = 1\n",
    "    return dic\n",
    "\n",
    "      "
   ]
  },
  {
   "cell_type": "code",
   "execution_count": 24,
   "metadata": {},
   "outputs": [],
   "source": [
    "def options_and_counts(options) :\n",
    "    \"\"\" Calculates the number of times each option is selected in a \"check all that apply\" type\n",
    "    of questions.\n",
    "    Args:\n",
    "        options (Pandas Series)\n",
    "    Returns:\n",
    "        counts_dic (dictionary)\n",
    "    \"\"\"\n",
    "    counts_dic = {}\n",
    "    counts_dic = options.apply(func = occurrences, dic=counts_dic);\n",
    "    return counts_dic.iloc[0]\n",
    "\n",
    "      "
   ]
  },
  {
   "cell_type": "code",
   "execution_count": 25,
   "metadata": {},
   "outputs": [
    {
     "data": {
      "text/plain": [
       "\"Wireless Internet\"             97.65%\n",
       "Heating                         97.20%\n",
       "Kitchen                         94.85%\n",
       "\"Smoke Detector\"                89.37%\n",
       "Essentials                      84.68%\n",
       "Dryer                           82.33%\n",
       "Washer                          82.21%\n",
       "\"Free Parking on Premises\"      78.30%\n",
       "Internet                        78.08%\n",
       "TV                              77.63%\n",
       "\"Family/Kid Friendly\"           74.38%\n",
       "\"Carbon Monoxide Detector\"      70.47%\n",
       "Shampoo                         69.69%\n",
       "\"Fire Extinguisher\"             66.22%\n",
       "\"First Aid Kit\"                 49.66%\n",
       "\"Cable TV\"                      49.55%\n",
       "\"Indoor Fireplace\"              37.58%\n",
       "\"Pets live on this property\"    23.15%\n",
       "\"Safety Card\"                   21.03%\n",
       "Hangers                         20.92%\n",
       "\"Pets Allowed\"                  20.36%\n",
       "\"Laptop Friendly Workspace\"     20.25%\n",
       "\"Hair Dryer\"                    19.35%\n",
       "Iron                            19.02%\n",
       "\"24-Hour Check-in\"              16.22%\n",
       "\"Air Conditioning\"              14.43%\n",
       "Dog(s)                          13.20%\n",
       "Cat(s)                           9.51%\n",
       "\"Suitable for Events\"            6.60%\n",
       "\"Hot Tub\"                        6.60%\n",
       "Breakfast                        3.91%\n",
       "\"Wheelchair Accessible\"          3.24%\n",
       "Gym                              2.01%\n",
       "\"Buzzer/Wireless Intercom\"       1.68%\n",
       "\"Other pet(s)\"                   1.57%\n",
       "\"Smoking Allowed\"                1.34%\n",
       "Pool                             0.56%\n",
       "                                 0.56%\n",
       "\"Lock on Bedroom Door\"           0.22%\n",
       "\"Elevator in Building\"           0.11%\n",
       "\"Washer / Dryer\"                 0.11%\n",
       "dtype: object"
      ]
     },
     "execution_count": 25,
     "metadata": {},
     "output_type": "execute_result"
    }
   ],
   "source": [
    "    #Amenity availability for entire house rentals\n",
    "    (pd.Series(options_and_counts(df.amenities[entire_houses]))/len(df.amenities[entire_houses])).sort_values(ascending=False).map(\"{:.2%}\".format)\n"
   ]
  },
  {
   "cell_type": "code",
   "execution_count": 26,
   "metadata": {},
   "outputs": [],
   "source": [
    "#The neighbourhood variable with too many levels (17) will generate too many dummy variables\n",
    "#Instead use a new variable that gives the number of listings in a ward\n",
    "df['neighbourhood_count']=df.neighbourhood_group_cleansed.value_counts()[df.neighbourhood_group_cleansed].reset_index(drop=True)\n"
   ]
  },
  {
   "cell_type": "code",
   "execution_count": 27,
   "metadata": {},
   "outputs": [
    {
     "data": {
      "image/png": "[encoded data removed]",
      "text/plain": [
       "<Figure size 432x288 with 2 Axes>"
      ]
     },
     "metadata": {
      "needs_background": "light"
     },
     "output_type": "display_data"
    }
   ],
   "source": [
    "#Correlation matrix of the quantitative variables\n",
    "sns.heatmap(df[entire_houses].corr(), annot=True,fmt='.2f');"
   ]
  },
  {
   "cell_type": "code",
   "execution_count": 28,
   "metadata": {},
   "outputs": [],
   "source": [
    "#Negligible correlation of the new variable. Let us drop it\n",
    "df.drop('neighbourhood_count',axis=1, inplace=True)"
   ]
  },
  {
   "cell_type": "code",
   "execution_count": 29,
   "metadata": {},
   "outputs": [],
   "source": [
    "#Let us group the neighbourhoods according to average rental price of entire house\n",
    "def assign_values(y):  \n",
    "    \"\"\"Creates a variable x conditional on the values of a variable y\n",
    "    Args:\n",
    "        y (Pandas Series)\n",
    "    Returns:\n",
    "        x (Pandas Series)\n",
    "    \"\"\"\n",
    "    x=pd.Series(np.zeros(len(y)))\n",
    "    x[y < 126] = 'cheapest'\n",
    "    x[(y > 126) & (y < 161)] = 'cheaper'\n",
    "    x[(y > 161) & (y < 199)] = 'average'\n",
    "    x[(y > 199) & (y < 250)] = 'expensive'\n",
    "    x[y > 250] = 'most_expensive'\n",
    "    return(x)\n",
    "\n",
    "\n",
    "\n"
   ]
  },
  {
   "cell_type": "code",
   "execution_count": 30,
   "metadata": {},
   "outputs": [
    {
     "name": "stdout",
     "output_type": "stream",
     "text": [
      "neighbourhood_group_cleansed\n",
      "Delridge               101.461538\n",
      "Northgate              125.888889\n",
      "Rainier Valley         139.212766\n",
      "Lake City              140.909091\n",
      "Beacon Hill            143.607143\n",
      "Interbay               150.000000\n",
      "Seward Park            161.578947\n",
      "Downtown               174.500000\n",
      "Other neighborhoods    182.149425\n",
      "Ballard                184.558140\n",
      "West Seattle           190.857143\n",
      "Central Area           191.250000\n",
      "Cascade                199.428571\n",
      "University District    220.363636\n",
      "Magnolia               250.280000\n",
      "Capitol Hill           259.955224\n",
      "Queen Anne             272.716418\n",
      "Name: price, dtype: float64\n"
     ]
    },
    {
     "data": {
      "image/png": "[encoded data removed]",
      "text/plain": [
       "<Figure size 432x288 with 1 Axes>"
      ]
     },
     "metadata": {
      "needs_background": "light"
     },
     "output_type": "display_data"
    }
   ],
   "source": [
    "#Combining neighbourhoods into bigger areas\n",
    "the_averages = averages(df.price[entire_houses], df.neighbourhood_group_cleansed[entire_houses]);\n",
    "df['area']= assign_values(the_averages[df.neighbourhood_group_cleansed].reset_index(drop=True))"
   ]
  },
  {
   "cell_type": "code",
   "execution_count": 31,
   "metadata": {},
   "outputs": [],
   "source": [
    "#drop the variable security_deposit and cleaning before regression model\n",
    "df.drop(['neighbourhood_group_cleansed','amenities','security_deposit','cleaning_fee'],axis=1, inplace=True)"
   ]
  },
  {
   "cell_type": "code",
   "execution_count": 32,
   "metadata": {},
   "outputs": [
    {
     "data": {
      "text/plain": [
       "property_type    0\n",
       "room_type        0\n",
       "accommodates     0\n",
       "bedrooms         1\n",
       "bathrooms        3\n",
       "beds             0\n",
       "price            0\n",
       "area             0\n",
       "dtype: int64"
      ]
     },
     "execution_count": 32,
     "metadata": {},
     "output_type": "execute_result"
    }
   ],
   "source": [
    "#Check missing values\n",
    "df[entire_houses].isnull().sum()"
   ]
  },
  {
   "cell_type": "code",
   "execution_count": 33,
   "metadata": {},
   "outputs": [],
   "source": [
    "#Remove rows with missing values; there are very few of them\n",
    "dflm= df[entire_houses].copy()\n",
    "dflm.dropna(axis=0,inplace=True)"
   ]
  },
  {
   "cell_type": "code",
   "execution_count": 34,
   "metadata": {},
   "outputs": [],
   "source": [
    "#Create dummy variables \n",
    "area_dummies = pd.get_dummies(dflm.area)\n",
    "dflm = dflm.join(area_dummies)\n",
    "dflm.drop('area',axis=1,inplace=True)"
   ]
  },
  {
   "cell_type": "code",
   "execution_count": 35,
   "metadata": {},
   "outputs": [],
   "source": [
    "#Specify explanatory variables\n",
    "X= dflm.drop(['property_type','room_type','price','most_expensive'],axis=1).copy()\n",
    "y= dflm.price\n"
   ]
  },
  {
   "cell_type": "code",
   "execution_count": 36,
   "metadata": {},
   "outputs": [],
   "source": [
    "# Split data for model validation\n",
    "Xtrain, Xtest, ytrain, ytest = train_test_split(X,y,test_size=0.25,random_state = 20)"
   ]
  },
  {
   "cell_type": "code",
   "execution_count": 37,
   "metadata": {},
   "outputs": [],
   "source": [
    "#Regression model\n",
    "def Regression_model(Xtrain, ytrain):\n",
    "    #Fit linear regression model\n",
    "    lm_model = LinearRegression(normalize=True)\n",
    "    lm_model.fit(Xtrain,ytrain)\n",
    "    \n",
    "    print(\"Coefficients:\")\n",
    "    print(lm_model.coef_)\n",
    "    \n",
    "    print(\"Intercept:\")\n",
    "    print(lm_model.intercept_)\n",
    "    \n",
    "    #Coefficient of determination\n",
    "    print(\"Coefficient of determination:\")\n",
    "    print(lm_model.score(Xtrain,ytrain))\n",
    "    \n",
    "    plt.scatter(x=ytrain, y=lm_model.predict(Xtrain));\n",
    "    plt.title(\"Response vs Predicted\")\n",
    "    plt.xlabel(ytrain.name)\n",
    "    plt.ylabel(\"Predicted\")\n",
    "    return lm_model;\n",
    "    "
   ]
  },
  {
   "cell_type": "code",
   "execution_count": 38,
   "metadata": {},
   "outputs": [
    {
     "name": "stdout",
     "output_type": "stream",
     "text": [
      "Coefficients:\n",
      "[ 0.02573266  0.20446372  0.16687414 -0.00553866 -0.17217746 -0.36883578\n",
      " -0.45223734 -0.05769083]\n",
      "Intercept:\n",
      "4.445244444602425\n",
      "Coefficient of determination:\n",
      "0.6215611936320644\n"
     ]
    },
    {
     "data": {
      "image/png": "[encoded data removed]",
      "text/plain": [
       "<Figure size 432x288 with 1 Axes>"
      ]
     },
     "metadata": {
      "needs_background": "light"
     },
     "output_type": "display_data"
    }
   ],
   "source": [
    "lm_model = Regression_model(Xtrain,  np.log(ytrain));"
   ]
  },
  {
   "cell_type": "code",
   "execution_count": 39,
   "metadata": {},
   "outputs": [
    {
     "data": {
      "text/plain": [
       "count    223.000000\n",
       "mean      27.898890\n",
       "std       27.594824\n",
       "min        0.501290\n",
       "25%        9.169713\n",
       "50%       22.587962\n",
       "75%       36.224791\n",
       "max      209.664911\n",
       "Name: price, dtype: float64"
      ]
     },
     "execution_count": 39,
     "metadata": {},
     "output_type": "execute_result"
    }
   ],
   "source": [
    "#Percentage absolute prediction error\n",
    "(np.abs(np.exp(lm_model.predict(Xtest))-ytest)/ytest*100).describe()"
   ]
  },
  {
   "cell_type": "code",
   "execution_count": 40,
   "metadata": {},
   "outputs": [],
   "source": [
    "#Residuals\n",
    "res = np.exp(lm_model.predict(Xtrain))- ytrain"
   ]
  },
  {
   "cell_type": "code",
   "execution_count": 41,
   "metadata": {},
   "outputs": [
    {
     "data": {
      "text/plain": [
       "3122    6.907755\n",
       "3443    6.856462\n",
       "Name: price, dtype: float64"
      ]
     },
     "execution_count": 41,
     "metadata": {},
     "output_type": "execute_result"
    }
   ],
   "source": [
    "#Identify outliers\n",
    "np.log(ytrain)[np.abs(res).sort_values(ascending=False).index[:2]]"
   ]
  },
  {
   "cell_type": "code",
   "execution_count": 42,
   "metadata": {},
   "outputs": [],
   "source": [
    "#Remove outliers from training data\n",
    "new_ytrain = ytrain.drop(np.abs(res).sort_values(ascending=False).index[:2],axis=0,inplace=False).copy()\n",
    "new_Xtrain = Xtrain.drop(np.abs(res).sort_values(ascending=False).index[:2],axis=0,inplace=False).copy()"
   ]
  },
  {
   "cell_type": "code",
   "execution_count": 43,
   "metadata": {},
   "outputs": [
    {
     "name": "stdout",
     "output_type": "stream",
     "text": [
      "Coefficients:\n",
      "[ 0.02552389  0.2005677   0.16323854 -0.16833399 -0.36048285 -0.44458295\n",
      " -0.05162904]\n",
      "Intercept:\n",
      "4.43719298526878\n",
      "Coefficient of determination:\n",
      "0.636118565182518\n"
     ]
    },
    {
     "data": {
      "image/png": "[encoded data removed]",
      "text/plain": [
       "<Figure size 432x288 with 1 Axes>"
      ]
     },
     "metadata": {
      "needs_background": "light"
     },
     "output_type": "display_data"
    }
   ],
   "source": [
    "#Refit linear regression model with outliers and non-significant predictor removed\n",
    "lm_model2 = Regression_model(new_Xtrain.drop('beds',axis=1,inplace=False), np.log(new_ytrain))\n"
   ]
  },
  {
   "cell_type": "code",
   "execution_count": 44,
   "metadata": {},
   "outputs": [
    {
     "data": {
      "text/plain": [
       "count    223.000000\n",
       "mean      27.774478\n",
       "std       27.298260\n",
       "min        0.081771\n",
       "25%        9.191360\n",
       "50%       22.404544\n",
       "75%       35.337330\n",
       "max      208.879739\n",
       "Name: price, dtype: float64"
      ]
     },
     "execution_count": 44,
     "metadata": {},
     "output_type": "execute_result"
    }
   ],
   "source": [
    "#Percentage absolute prediction error\n",
    "(np.abs(np.exp(lm_model2.predict(Xtest.drop('beds',axis=1)))-ytest)/ytest*100).describe()"
   ]
  },
  {
   "cell_type": "code",
   "execution_count": null,
   "metadata": {},
   "outputs": [],
   "source": []
  }
 ],
 "metadata": {
  "kernelspec": {
   "display_name": "Python 3",
   "language": "python",
   "name": "python3"
  },
  "language_info": {
   "codemirror_mode": {
    "name": "ipython",
    "version": 3
   },
   "file_extension": ".py",
   "mimetype": "text/x-python",
   "name": "python",
   "nbconvert_exporter": "python",
   "pygments_lexer": "ipython3",
   "version": "3.7.4"
  }
 },
 "nbformat": 4,
 "nbformat_minor": 2
}
